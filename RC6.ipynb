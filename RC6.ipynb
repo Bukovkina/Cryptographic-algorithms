{
  "nbformat": 4,
  "nbformat_minor": 0,
  "metadata": {
    "colab": {
      "name": "RC6.ipynb",
      "provenance": [],
      "collapsed_sections": []
    },
    "kernelspec": {
      "name": "python3",
      "display_name": "Python 3"
    }
  },
  "cells": [
    {
      "cell_type": "markdown",
      "metadata": {
        "id": "Lf8vB901vZtb"
      },
      "source": [
        "**RC6** — симметричный блочный криптографический алгоритм, производный от алгоритма RC5. Был создан Роном Ривестом, Мэттом Робшау и Рэем Сиднеем для удовлетворения требований конкурса Advanced Encryption Standard (AES). Алгоритм был одним из пяти финалистов конкурса, был также представлен NESSIE и CRYPTREC.\n",
        "\n",
        "Вариант шифра RC6, заявленный на конкурс AES, поддерживает блоки длиной 128 бит и ключи длиной 128, 192 и 256 бит, но сам алгоритм, как и RC5, может быть сконфигурирован для поддержки более широкого диапазона длин как блоков, так и ключей (от 0 до 2040 бит). \n",
        "\n",
        "[Wiki](https://ru.wikipedia.org/wiki/RC6)"
      ]
    },
    {
      "cell_type": "code",
      "metadata": {
        "id": "z56MXz7ivV06"
      },
      "source": [
        "import math"
      ],
      "execution_count": 27,
      "outputs": []
    },
    {
      "cell_type": "code",
      "metadata": {
        "id": "aE6jVBlPyWUY"
      },
      "source": [
        "# Округление до ближайшего нечетного целого:\n",
        "def odd(x):\n",
        "  if math.trunc(x) % 2 == 0:\n",
        "    y = math.ceil(x)\n",
        "  else:\n",
        "    y = math.floor(x)\n",
        "  return y\n"
      ],
      "execution_count": 28,
      "outputs": []
    },
    {
      "cell_type": "code",
      "metadata": {
        "id": "4ChzpGt_FHdq"
      },
      "source": [
        "# Циклический сдвиг вправо:\n",
        "def right_shift(x, n):\n",
        "  n = n & (2 ** math.floor(math.log2(w)) - 1)\n",
        "  return ((x >> n) | (x << (w - n))) & (2 ** w - 1)\n",
        "\n",
        "# Циклический сдвиг влево:\n",
        "def left_shift(x, n):\n",
        "  n = n & (2 ** math.floor(math.log2(w)) - 1)\n",
        "  return ((x << n) | (x >> (w - n))) & (2 ** w - 1)"
      ],
      "execution_count": 29,
      "outputs": []
    },
    {
      "cell_type": "code",
      "metadata": {
        "id": "oGdvLJ-o1lvr"
      },
      "source": [
        "# Генерация констант:\n",
        "def gen_const(w):\n",
        "  f = (math.sqrt(5) + 1) / 2  # золотое сечение\n",
        "  P = odd((math.e - 2) * 2**w)\n",
        "  Q = odd((f - 1) * 2**w)\n",
        "  return P, Q"
      ],
      "execution_count": 30,
      "outputs": []
    },
    {
      "cell_type": "code",
      "metadata": {
        "id": "pEnYXhWm2kug"
      },
      "source": [
        "# Процедура расширения ключа:\n",
        "def key_expansion(b, key):\n",
        "  if b == 0:\n",
        "    c = 1\n",
        "    L = [b'\\x00']\n",
        "  else:\n",
        "    if b % w8 != 0:\n",
        "      key = b'\\x00' * (w8 - b % w8) + key   # дополнение ключа до длины кратной w/8\n",
        "    c = b // w8   # количество блоков по w/8 байт ключа \n",
        "    L = [key[w8-1 :: -1]]\n",
        "\n",
        "  # разбиваем ключ на c блоков:\n",
        "  for i in range(1, c):\n",
        "    L.append(key[w8*(i+1)-1 : w8*i-1 : -1])\n",
        "  L = [int.from_bytes(L[i], byteorder = 'big') for i in range(c)]\n",
        "\n",
        "  P, Q = gen_const(w)\n",
        "  S = []\n",
        "  S.append(P)\n",
        "  for i in range(2*r+3):\n",
        "    S.append((S[i] + Q) % 2**w)\n",
        "\n",
        "  A = B = i = j = 0\n",
        "\n",
        "  v = 3 * max(c, 2*r+4)\n",
        "  for k in range(v):\n",
        "    S[i] = (S[i] + A + B) % 2**w\n",
        "    A = S[i] = left_shift(S[i], 3)\n",
        "    L[j] = (L[j] + A + B) % 2**w\n",
        "    B = L[j] = left_shift(L[j], A + B)\n",
        "    i = (i+1) % (2*r+4)\n",
        "    j = (j+1) % c\n",
        "\n",
        "  return S"
      ],
      "execution_count": 31,
      "outputs": []
    },
    {
      "cell_type": "code",
      "metadata": {
        "id": "vqICQ0Wc5quE"
      },
      "source": [
        "# Шифрование блока (4 w-битных регистра):\n",
        "def enc_round(S, text):\n",
        "  A = int.from_bytes(text[w8-1::-1], byteorder = 'big')\n",
        "  B, C, D = map(lambda x: int.from_bytes(x, byteorder = 'big'), [text[w8*(i+1)-1 : w8*i-1 : -1] for i in range(1, 4)])\n",
        "  B = (B + S[0]) % 2**w\n",
        "  D = (D + S[1]) % 2**w\n",
        "\n",
        "  lgw = math.floor(math.log2(w))\n",
        "\n",
        "  for i in range(r):\n",
        "    t = left_shift((B * (2*B + 1)) % 2**w, lgw)\n",
        "    u = left_shift((D * (2*D + 1)) % 2**w, lgw)\n",
        "    A = (left_shift(A ^ t, u) + S[2*(i+1)]) % 2**w\n",
        "    C = (left_shift(C ^ u, t) + S[2*(i+1)+1]) % 2**w \n",
        "    A, B, C, D = B, C, D, A\n",
        "\n",
        "  A = (A + S[2*r + 2]) % 2**w\n",
        "  C = (C + S[2*r + 3]) % 2**w\n",
        "\n",
        "  return [A, B, C, D]\n"
      ],
      "execution_count": 32,
      "outputs": []
    },
    {
      "cell_type": "code",
      "metadata": {
        "id": "DJO8B18F-HR7"
      },
      "source": [
        "def encryption(S, intext):\n",
        "  blocksize = w8 * 4\n",
        "\n",
        "  if len(intext) % blocksize != 0:\n",
        "    intext = b'\\x00' * (blocksize - len(intext) % blocksize) + intext\n",
        "  n = len(intext) // blocksize\n",
        "\n",
        "  ciphertext = []\n",
        "  for i in range(n):\n",
        "    ciphertext += enc_round(S, intext[blocksize * i : blocksize * (i+1)])\n",
        "\n",
        "  CT = str()\n",
        "  for ct in ciphertext:\n",
        "    CT += \"%02X\" % int.from_bytes(ct.to_bytes(w8, byteorder = 'little'), byteorder = 'big')\n",
        "\n",
        "  return ciphertext, CT"
      ],
      "execution_count": 33,
      "outputs": []
    },
    {
      "cell_type": "code",
      "metadata": {
        "id": "sAIlRXjRBwrd"
      },
      "source": [
        "def dec_round(S, text):\n",
        "  A, B, C, D = text\n",
        "\n",
        "  C = (C - S[2*r + 3]) % 2**w\n",
        "  A = (A - S[2*r + 2]) % 2**w\n",
        "\n",
        "  lgw = int(math.log2(w))\n",
        "\n",
        "  for i in range(r, 0, -1):\n",
        "    A, B, C, D = D, A, B, C\n",
        "    u = left_shift((D * (2*D + 1)) % 2**w, lgw)\n",
        "    t = left_shift((B * (2*B + 1)) % 2**w, lgw)\n",
        "    C = right_shift((C - S[2*i + 1]) % 2**w, t) ^ u\n",
        "    A = right_shift((A - S[2*i]) % 2**w, u) ^ t\n",
        "\n",
        "  D = (D - S[1]) % 2**w\n",
        "  B = (B - S[0]) % 2**w\n",
        "\n",
        "  return [A, B, C, D]"
      ],
      "execution_count": 34,
      "outputs": []
    },
    {
      "cell_type": "code",
      "metadata": {
        "id": "hxsam4_i9kbY"
      },
      "source": [
        "def decryption(S, ciphertext):\n",
        "  blocksize = w8 * 4\n",
        "  n = len(ciphertext) // 4\n",
        "  \n",
        "  outtext = []\n",
        "  for i in range(n):\n",
        "    outtext += dec_round(S, ciphertext[blocksize * i : blocksize * (i+1)])\n",
        "\n",
        "  OT = str()\n",
        "  for ot in outtext:\n",
        "    OT += \"%02X\" % int.from_bytes(ot.to_bytes(w8, byteorder = 'little'), byteorder = 'big')\n",
        "  return OT"
      ],
      "execution_count": 35,
      "outputs": []
    },
    {
      "cell_type": "code",
      "metadata": {
        "id": "fZb4Rsx5a46L"
      },
      "source": [
        ""
      ],
      "execution_count": 35,
      "outputs": []
    },
    {
      "cell_type": "code",
      "metadata": {
        "id": "OxXnOQcw6-uN"
      },
      "source": [
        "# RC6-32/20/16\n",
        "w = 32  # длина машинного слова слова в битах\n",
        "r = 20  # число раундов\n",
        "b = 16  # длина ключа в битах\n",
        "key = 0x102030405060708090A0B0C0D0E0F\n",
        "key = key.to_bytes(b, byteorder='big')\n",
        "w8 = w // 8 # длина машинного слова в байтах\n",
        "\n",
        "M = 0xABCD101112131415161718191A1B1C1D\n",
        "M = M.to_bytes(math.ceil(M.bit_length()/8), byteorder='big')"
      ],
      "execution_count": 36,
      "outputs": []
    },
    {
      "cell_type": "code",
      "metadata": {
        "id": "-glceCe-Tq4Y",
        "outputId": "407fd3a2-d94e-4079-8958-6433abd6aff5",
        "colab": {
          "base_uri": "https://localhost:8080/"
        }
      },
      "source": [
        "print('RC6-32/20/16:')\n",
        "S = key_expansion(b, key)\n",
        "ciphertext, CT = encryption(S, M)\n",
        "print('Ciphertext =', CT)\n",
        "answer = decryption(S, ciphertext)\n",
        "print('Message =', answer)"
      ],
      "execution_count": 37,
      "outputs": [
        {
          "output_type": "stream",
          "text": [
            "RC6-32/20/16:\n",
            "Ciphertext = 30623BA4D22984946319C50017D52E8F\n",
            "Message = ABCD101112131415161718191A1B1C1D\n"
          ],
          "name": "stdout"
        }
      ]
    },
    {
      "cell_type": "code",
      "metadata": {
        "id": "UKxu4WTeQ0PF"
      },
      "source": [
        "# RC6-8/12/4\n",
        "w = 8\n",
        "r = 12\n",
        "b = 4\n",
        "key = 0x00010203\n",
        "key = key.to_bytes(b, byteorder='big')\n",
        "w8 = w//8\n",
        "\n",
        "M = 0x00010203\n",
        "M = M.to_bytes(math.ceil(M.bit_length()/8), byteorder='big')\n"
      ],
      "execution_count": 38,
      "outputs": []
    },
    {
      "cell_type": "code",
      "metadata": {
        "id": "D_WeXxvqIKZr",
        "outputId": "3116de37-c7e1-4bbb-cb10-6b2835333314",
        "colab": {
          "base_uri": "https://localhost:8080/"
        }
      },
      "source": [
        "print('RC6-8/12/4:')\n",
        "S = key_expansion(b, key)\n",
        "ciphertext, CT = encryption(S, M)\n",
        "print('Ciphertext =', CT)\n",
        "answer = decryption(S, ciphertext)\n",
        "print('Message =', answer)"
      ],
      "execution_count": 39,
      "outputs": [
        {
          "output_type": "stream",
          "text": [
            "RC6-8/12/4:\n",
            "Ciphertext = AEFC4612\n",
            "Message = 00010203\n"
          ],
          "name": "stdout"
        }
      ]
    }
  ]
}