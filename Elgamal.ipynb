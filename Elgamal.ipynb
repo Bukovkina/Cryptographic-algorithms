{
  "nbformat": 4,
  "nbformat_minor": 0,
  "metadata": {
    "colab": {
      "name": "Elgamal.ipynb",
      "provenance": [],
      "collapsed_sections": []
    },
    "kernelspec": {
      "name": "python3",
      "display_name": "Python 3"
    }
  },
  "cells": [
    {
      "cell_type": "markdown",
      "metadata": {
        "id": "Oc3JLBTJssj3"
      },
      "source": [
        "Алгоритм **Эль-Гамаля** (Elgamal) — асимметричный алгоритм с открытым ключом, основанный на трудности вычисления дискретных логарифмов в конечном поле. \n",
        "\n",
        "Выбираются некоторое большое простое число p и число g, такие, что различные степени g представляют собой различные числа по модулю p. Числа p и a могут передаваться в открытом виде и быть общими для всех абонентов сети.\n",
        "\n",
        "[Wiki](https://ru.wikipedia.org/wiki/Схема_Эль-Гамаля)\n",
        "\n"
      ]
    },
    {
      "cell_type": "code",
      "metadata": {
        "id": "JiAwZC1KOc1p"
      },
      "source": [
        "import numpy as np"
      ],
      "execution_count": 1,
      "outputs": []
    },
    {
      "cell_type": "code",
      "metadata": {
        "id": "tabTQ32RrhlS"
      },
      "source": [
        "def mypow(r, a, p):\n",
        "  res = 1\n",
        "  for i in range(a):\n",
        "    res = res * r % p\n",
        "  return res"
      ],
      "execution_count": 2,
      "outputs": []
    },
    {
      "cell_type": "markdown",
      "metadata": {
        "id": "YiR1TUvInR6D"
      },
      "source": [
        "**Генерация ключей:**"
      ]
    },
    {
      "cell_type": "code",
      "metadata": {
        "id": "jPkk_chJC_Dv"
      },
      "source": [
        "def keygen(p, g):\n",
        "  # Каждый абонент выбирает свое секретное число ci, 1 < ci < p-1:\n",
        "  #c = np.array([5, 13, 11])\n",
        "  c = np.array([np.random.randint(1, p-1) for i in range(3)])\n",
        "\n",
        "  # По секретным ключам вычисляются открытые ключи di:\n",
        "  d = [mypow(g, i, p) for i in c]\n",
        "\n",
        "  return c, d"
      ],
      "execution_count": 3,
      "outputs": []
    },
    {
      "cell_type": "code",
      "metadata": {
        "id": "5mWYH5-APEOt"
      },
      "source": [
        "def table(c, d):\n",
        "  # Получаем такую табличку абонентов:\n",
        "  print('Абонент  Закр.ключ Откр.ключ')\n",
        "  for i in range(c.size):\n",
        "    print('  ', i, '      ', c[i], '      ', d[i])\n",
        "  print()"
      ],
      "execution_count": 4,
      "outputs": []
    },
    {
      "cell_type": "markdown",
      "metadata": {
        "id": "nGVp3pJOnesM"
      },
      "source": [
        "**Шифрование:**"
      ]
    },
    {
      "cell_type": "code",
      "metadata": {
        "id": "7dnKOQQBT023"
      },
      "source": [
        "def encryption(p, g, m, d):\n",
        "  # Генерируем случайное число k:\n",
        "  k = np.random.randint(1, p-2)\n",
        "  print('k =', k)\n",
        "\n",
        "  # Вычисляем пару (r, e):\n",
        "  r = mypow(g, k, p)\n",
        "  e = m * mypow(int(d), k, p) % p\n",
        "\n",
        "  return r, e"
      ],
      "execution_count": 5,
      "outputs": []
    },
    {
      "cell_type": "markdown",
      "metadata": {
        "id": "IOSVNJtl36l8"
      },
      "source": [
        "**Расшифровка:**"
      ]
    },
    {
      "cell_type": "code",
      "metadata": {
        "id": "4FoatPLNS18p"
      },
      "source": [
        "def decryption(r, e, p, c):\n",
        "  m = e * mypow(r, (p-1-c), p) % p\n",
        "  return m"
      ],
      "execution_count": 6,
      "outputs": []
    },
    {
      "cell_type": "markdown",
      "metadata": {
        "id": "zac4QO1uw3Fk"
      },
      "source": [
        "**Пример:**"
      ]
    },
    {
      "cell_type": "code",
      "metadata": {
        "id": "Cs0xAjvolTtn",
        "outputId": "e1353667-e02d-43b7-d2d6-9ca3d35cf6fd",
        "colab": {
          "base_uri": "https://localhost:8080/"
        }
      },
      "source": [
        "# Выбираем 2 числа p и g:\n",
        "p = 113\n",
        "g = 31\n",
        "c, d = keygen(p, g)\n",
        "table(c, d)\n",
        "\n",
        "m = 54  # открытый текст, m < p\n",
        "B = 1   # номер абонента, которому хотим передать сообщение\n",
        "\n",
        "r, e = encryption(p, g, m, d[B])\n",
        "print('(r, e) = ', r, e)\n",
        "\n",
        "mm = decryption(r, e, p, c[B])\n",
        "print('Message = ', mm)"
      ],
      "execution_count": 7,
      "outputs": [
        {
          "output_type": "stream",
          "text": [
            "Абонент  Закр.ключ Откр.ключ\n",
            "   0        102        32\n",
            "   1        41        26\n",
            "   2        102        32\n",
            "\n",
            "k = 29\n",
            "(r, e) =  82 65\n",
            "Message =  54\n"
          ],
          "name": "stdout"
        }
      ]
    },
    {
      "cell_type": "code",
      "metadata": {
        "id": "rLajqEIkwS6I"
      },
      "source": [
        ""
      ],
      "execution_count": 7,
      "outputs": []
    }
  ]
}